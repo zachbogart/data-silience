{
 "cells": [
  {
   "cell_type": "markdown",
   "id": "severe-cookie",
   "metadata": {},
   "source": [
    "# \"I love everything() from the tidyverse\"  \n",
    "\n",
    "- toc: false\n",
    "- badges: false\n",
    "- comments: true\n",
    "- categories: [r, python, pandas, tidyverse]\n",
    "- image: images/heart.png"
   ]
  },
  {
   "cell_type": "markdown",
   "id": "honest-omaha",
   "metadata": {},
   "source": [
    "![](my_icons/heart.png)"
   ]
  },
  {
   "cell_type": "markdown",
   "id": "empty-router",
   "metadata": {},
   "source": [
    "It is probably true that I love everything from the tidyverse, full stop, but in this case parens matter. Reordering columns happens a bunch and it can be a pain, but `everything()` allows for easy manipulation of columns in a dataframe. Let's give it a go.\n",
    "\n",
    "## How I'd do it in Python\n",
    "\n",
    "Say I have some data on rainfall and I want to add a column for the decade in which the reading was taken (Source: [tidytuesday](https://github.com/rfordatascience/tidytuesday/blob/master/data/2020/2020-01-07/readme.md))."
   ]
  },
  {
   "cell_type": "code",
   "execution_count": 2,
   "id": "local-coalition",
   "metadata": {},
   "outputs": [
    {
     "name": "stderr",
     "output_type": "stream",
     "text": [
      "also installing the dependency ‘rappdirs’\n",
      "\n",
      "\n",
      "Updating HTML index of packages in '.Library'\n",
      "\n",
      "Making 'packages.html' ...\n",
      " done\n",
      "\n"
     ]
    }
   ],
   "source": [
    "install.packages('reticulate')"
   ]
  },
  {
   "cell_type": "code",
   "execution_count": 23,
   "id": "essential-subscription",
   "metadata": {
    "tags": [
     "remove_cell"
    ]
   },
   "outputs": [],
   "source": [
    "library(reticulate)"
   ]
  },
  {
   "cell_type": "code",
   "execution_count": 24,
   "id": "stopped-pillow",
   "metadata": {},
   "outputs": [],
   "source": [
    "pd = import(\"pandas\")"
   ]
  },
  {
   "cell_type": "code",
   "execution_count": 25,
   "id": "passive-minute",
   "metadata": {},
   "outputs": [],
   "source": [
    "df = pd$read_csv('https://raw.githubusercontent.com/rfordatascience/tidytuesday/master/data/2020/2020-01-07/rainfall.csv')\n",
    "df[\"decade\"] = df$year %/% 10 * 10"
   ]
  },
  {
   "cell_type": "code",
   "execution_count": 16,
   "id": "fixed-domain",
   "metadata": {},
   "outputs": [
    {
     "data": {
      "text/html": [
       "<table class=\"dataframe\">\n",
       "<caption>A data.frame: 6 × 12</caption>\n",
       "<thead>\n",
       "\t<tr><th></th><th scope=col>station_code</th><th scope=col>city_name</th><th scope=col>year</th><th scope=col>month</th><th scope=col>day</th><th scope=col>rainfall</th><th scope=col>period</th><th scope=col>quality</th><th scope=col>lat</th><th scope=col>long</th><th scope=col>station_name</th><th scope=col>decade</th></tr>\n",
       "\t<tr><th></th><th scope=col>&lt;dbl&gt;</th><th scope=col>&lt;chr&gt;</th><th scope=col>&lt;dbl&gt;</th><th scope=col>&lt;dbl&gt;</th><th scope=col>&lt;dbl&gt;</th><th scope=col>&lt;dbl&gt;</th><th scope=col>&lt;dbl&gt;</th><th scope=col>&lt;list&gt;</th><th scope=col>&lt;dbl&gt;</th><th scope=col>&lt;dbl&gt;</th><th scope=col>&lt;chr&gt;</th><th scope=col>&lt;dbl&gt;</th></tr>\n",
       "</thead>\n",
       "<tbody>\n",
       "\t<tr><th scope=row>1</th><td>9151</td><td>Perth</td><td>1967</td><td>1</td><td>1</td><td>NaN</td><td>NaN</td><td>NaN</td><td>-31.96</td><td>115.79</td><td>Subiaco Wastewater Treatment Plant</td><td>1960</td></tr>\n",
       "\t<tr><th scope=row>2</th><td>9151</td><td>Perth</td><td>1967</td><td>1</td><td>2</td><td>NaN</td><td>NaN</td><td>NaN</td><td>-31.96</td><td>115.79</td><td>Subiaco Wastewater Treatment Plant</td><td>1960</td></tr>\n",
       "\t<tr><th scope=row>3</th><td>9151</td><td>Perth</td><td>1967</td><td>1</td><td>3</td><td>NaN</td><td>NaN</td><td>NaN</td><td>-31.96</td><td>115.79</td><td>Subiaco Wastewater Treatment Plant</td><td>1960</td></tr>\n",
       "\t<tr><th scope=row>4</th><td>9151</td><td>Perth</td><td>1967</td><td>1</td><td>4</td><td>NaN</td><td>NaN</td><td>NaN</td><td>-31.96</td><td>115.79</td><td>Subiaco Wastewater Treatment Plant</td><td>1960</td></tr>\n",
       "\t<tr><th scope=row>5</th><td>9151</td><td>Perth</td><td>1967</td><td>1</td><td>5</td><td>NaN</td><td>NaN</td><td>NaN</td><td>-31.96</td><td>115.79</td><td>Subiaco Wastewater Treatment Plant</td><td>1960</td></tr>\n",
       "\t<tr><th scope=row>6</th><td>9151</td><td>Perth</td><td>1967</td><td>1</td><td>6</td><td>NaN</td><td>NaN</td><td>NaN</td><td>-31.96</td><td>115.79</td><td>Subiaco Wastewater Treatment Plant</td><td>1960</td></tr>\n",
       "</tbody>\n",
       "</table>\n"
      ],
      "text/latex": [
       "A data.frame: 6 × 12\n",
       "\\begin{tabular}{r|llllllllllll}\n",
       "  & station\\_code & city\\_name & year & month & day & rainfall & period & quality & lat & long & station\\_name & decade\\\\\n",
       "  & <dbl> & <chr> & <dbl> & <dbl> & <dbl> & <dbl> & <dbl> & <list> & <dbl> & <dbl> & <chr> & <dbl>\\\\\n",
       "\\hline\n",
       "\t1 & 9151 & Perth & 1967 & 1 & 1 & NaN & NaN & NaN & -31.96 & 115.79 & Subiaco Wastewater Treatment Plant & 1960\\\\\n",
       "\t2 & 9151 & Perth & 1967 & 1 & 2 & NaN & NaN & NaN & -31.96 & 115.79 & Subiaco Wastewater Treatment Plant & 1960\\\\\n",
       "\t3 & 9151 & Perth & 1967 & 1 & 3 & NaN & NaN & NaN & -31.96 & 115.79 & Subiaco Wastewater Treatment Plant & 1960\\\\\n",
       "\t4 & 9151 & Perth & 1967 & 1 & 4 & NaN & NaN & NaN & -31.96 & 115.79 & Subiaco Wastewater Treatment Plant & 1960\\\\\n",
       "\t5 & 9151 & Perth & 1967 & 1 & 5 & NaN & NaN & NaN & -31.96 & 115.79 & Subiaco Wastewater Treatment Plant & 1960\\\\\n",
       "\t6 & 9151 & Perth & 1967 & 1 & 6 & NaN & NaN & NaN & -31.96 & 115.79 & Subiaco Wastewater Treatment Plant & 1960\\\\\n",
       "\\end{tabular}\n"
      ],
      "text/markdown": [
       "\n",
       "A data.frame: 6 × 12\n",
       "\n",
       "| <!--/--> | station_code &lt;dbl&gt; | city_name &lt;chr&gt; | year &lt;dbl&gt; | month &lt;dbl&gt; | day &lt;dbl&gt; | rainfall &lt;dbl&gt; | period &lt;dbl&gt; | quality &lt;list&gt; | lat &lt;dbl&gt; | long &lt;dbl&gt; | station_name &lt;chr&gt; | decade &lt;dbl&gt; |\n",
       "|---|---|---|---|---|---|---|---|---|---|---|---|---|\n",
       "| 1 | 9151 | Perth | 1967 | 1 | 1 | NaN | NaN | NaN | -31.96 | 115.79 | Subiaco Wastewater Treatment Plant | 1960 |\n",
       "| 2 | 9151 | Perth | 1967 | 1 | 2 | NaN | NaN | NaN | -31.96 | 115.79 | Subiaco Wastewater Treatment Plant | 1960 |\n",
       "| 3 | 9151 | Perth | 1967 | 1 | 3 | NaN | NaN | NaN | -31.96 | 115.79 | Subiaco Wastewater Treatment Plant | 1960 |\n",
       "| 4 | 9151 | Perth | 1967 | 1 | 4 | NaN | NaN | NaN | -31.96 | 115.79 | Subiaco Wastewater Treatment Plant | 1960 |\n",
       "| 5 | 9151 | Perth | 1967 | 1 | 5 | NaN | NaN | NaN | -31.96 | 115.79 | Subiaco Wastewater Treatment Plant | 1960 |\n",
       "| 6 | 9151 | Perth | 1967 | 1 | 6 | NaN | NaN | NaN | -31.96 | 115.79 | Subiaco Wastewater Treatment Plant | 1960 |\n",
       "\n"
      ],
      "text/plain": [
       "  station_code city_name year month day rainfall period quality lat    long  \n",
       "1 9151         Perth     1967 1     1   NaN      NaN    NaN     -31.96 115.79\n",
       "2 9151         Perth     1967 1     2   NaN      NaN    NaN     -31.96 115.79\n",
       "3 9151         Perth     1967 1     3   NaN      NaN    NaN     -31.96 115.79\n",
       "4 9151         Perth     1967 1     4   NaN      NaN    NaN     -31.96 115.79\n",
       "5 9151         Perth     1967 1     5   NaN      NaN    NaN     -31.96 115.79\n",
       "6 9151         Perth     1967 1     6   NaN      NaN    NaN     -31.96 115.79\n",
       "  station_name                       decade\n",
       "1 Subiaco Wastewater Treatment Plant 1960  \n",
       "2 Subiaco Wastewater Treatment Plant 1960  \n",
       "3 Subiaco Wastewater Treatment Plant 1960  \n",
       "4 Subiaco Wastewater Treatment Plant 1960  \n",
       "5 Subiaco Wastewater Treatment Plant 1960  \n",
       "6 Subiaco Wastewater Treatment Plant 1960  "
      ]
     },
     "metadata": {},
     "output_type": "display_data"
    }
   ],
   "source": [
    "head(df)"
   ]
  },
  {
   "cell_type": "markdown",
   "id": "ahead-ancient",
   "metadata": {},
   "source": [
    "If I create a new column, it is tacked onto the end of the dataframe, but I'd prefer the `decade` and `year` columns to be closer together. In python, I find this to be kind of a pain since you need to know the column index and you have to do conversions and junk ([insert](https://pandas.pydata.org/pandas-docs/stable/reference/api/pandas.DataFrame.insert.html) is also an option, but you have to drop duplicate columns...it's a whole deal):"
   ]
  },
  {
   "cell_type": "markdown",
   "id": "valid-planner",
   "metadata": {},
   "source": [
    "```\n",
    "cols = list(df.columns)\n",
    "# manual ordering of list...ewww\n",
    "cols = cols[:3] + [cols[-1]] + cols[3:-1]\n",
    "\n",
    "df[cols].head()\n",
    "```"
   ]
  },
  {
   "cell_type": "markdown",
   "id": "prepared-tension",
   "metadata": {},
   "source": [
    "## How Tidyverse does it\n",
    "\n",
    "I find it much easier to manipulate the column names. In comes `everything()` to the rescue. Combining with `select()`, you can get pretty fancy."
   ]
  },
  {
   "cell_type": "code",
   "execution_count": 26,
   "id": "sonic-capability",
   "metadata": {
    "message": false
   },
   "outputs": [],
   "source": [
    "library(tidyverse)\n",
    "\n",
    "rainfall <- suppressMessages(read_csv('https://raw.githubusercontent.com/rfordatascience/tidytuesday/master/data/2020/2020-01-07/rainfall.csv')) %>% \n",
    "  mutate(decade = year %/% 10 * 10)"
   ]
  },
  {
   "cell_type": "code",
   "execution_count": 27,
   "id": "curious-drilling",
   "metadata": {},
   "outputs": [
    {
     "data": {
      "text/html": [
       "<table class=\"dataframe\">\n",
       "<caption>A tibble: 6 × 12</caption>\n",
       "<thead>\n",
       "\t<tr><th scope=col>station_code</th><th scope=col>city_name</th><th scope=col>year</th><th scope=col>decade</th><th scope=col>month</th><th scope=col>day</th><th scope=col>rainfall</th><th scope=col>period</th><th scope=col>quality</th><th scope=col>lat</th><th scope=col>long</th><th scope=col>station_name</th></tr>\n",
       "\t<tr><th scope=col>&lt;chr&gt;</th><th scope=col>&lt;chr&gt;</th><th scope=col>&lt;dbl&gt;</th><th scope=col>&lt;dbl&gt;</th><th scope=col>&lt;chr&gt;</th><th scope=col>&lt;chr&gt;</th><th scope=col>&lt;dbl&gt;</th><th scope=col>&lt;dbl&gt;</th><th scope=col>&lt;chr&gt;</th><th scope=col>&lt;dbl&gt;</th><th scope=col>&lt;dbl&gt;</th><th scope=col>&lt;chr&gt;</th></tr>\n",
       "</thead>\n",
       "<tbody>\n",
       "\t<tr><td>009151</td><td>Perth</td><td>1967</td><td>1960</td><td>01</td><td>01</td><td>NA</td><td>NA</td><td>NA</td><td>-31.96</td><td>115.79</td><td>Subiaco Wastewater Treatment Plant</td></tr>\n",
       "\t<tr><td>009151</td><td>Perth</td><td>1967</td><td>1960</td><td>01</td><td>02</td><td>NA</td><td>NA</td><td>NA</td><td>-31.96</td><td>115.79</td><td>Subiaco Wastewater Treatment Plant</td></tr>\n",
       "\t<tr><td>009151</td><td>Perth</td><td>1967</td><td>1960</td><td>01</td><td>03</td><td>NA</td><td>NA</td><td>NA</td><td>-31.96</td><td>115.79</td><td>Subiaco Wastewater Treatment Plant</td></tr>\n",
       "\t<tr><td>009151</td><td>Perth</td><td>1967</td><td>1960</td><td>01</td><td>04</td><td>NA</td><td>NA</td><td>NA</td><td>-31.96</td><td>115.79</td><td>Subiaco Wastewater Treatment Plant</td></tr>\n",
       "\t<tr><td>009151</td><td>Perth</td><td>1967</td><td>1960</td><td>01</td><td>05</td><td>NA</td><td>NA</td><td>NA</td><td>-31.96</td><td>115.79</td><td>Subiaco Wastewater Treatment Plant</td></tr>\n",
       "\t<tr><td>009151</td><td>Perth</td><td>1967</td><td>1960</td><td>01</td><td>06</td><td>NA</td><td>NA</td><td>NA</td><td>-31.96</td><td>115.79</td><td>Subiaco Wastewater Treatment Plant</td></tr>\n",
       "</tbody>\n",
       "</table>\n"
      ],
      "text/latex": [
       "A tibble: 6 × 12\n",
       "\\begin{tabular}{llllllllllll}\n",
       " station\\_code & city\\_name & year & decade & month & day & rainfall & period & quality & lat & long & station\\_name\\\\\n",
       " <chr> & <chr> & <dbl> & <dbl> & <chr> & <chr> & <dbl> & <dbl> & <chr> & <dbl> & <dbl> & <chr>\\\\\n",
       "\\hline\n",
       "\t 009151 & Perth & 1967 & 1960 & 01 & 01 & NA & NA & NA & -31.96 & 115.79 & Subiaco Wastewater Treatment Plant\\\\\n",
       "\t 009151 & Perth & 1967 & 1960 & 01 & 02 & NA & NA & NA & -31.96 & 115.79 & Subiaco Wastewater Treatment Plant\\\\\n",
       "\t 009151 & Perth & 1967 & 1960 & 01 & 03 & NA & NA & NA & -31.96 & 115.79 & Subiaco Wastewater Treatment Plant\\\\\n",
       "\t 009151 & Perth & 1967 & 1960 & 01 & 04 & NA & NA & NA & -31.96 & 115.79 & Subiaco Wastewater Treatment Plant\\\\\n",
       "\t 009151 & Perth & 1967 & 1960 & 01 & 05 & NA & NA & NA & -31.96 & 115.79 & Subiaco Wastewater Treatment Plant\\\\\n",
       "\t 009151 & Perth & 1967 & 1960 & 01 & 06 & NA & NA & NA & -31.96 & 115.79 & Subiaco Wastewater Treatment Plant\\\\\n",
       "\\end{tabular}\n"
      ],
      "text/markdown": [
       "\n",
       "A tibble: 6 × 12\n",
       "\n",
       "| station_code &lt;chr&gt; | city_name &lt;chr&gt; | year &lt;dbl&gt; | decade &lt;dbl&gt; | month &lt;chr&gt; | day &lt;chr&gt; | rainfall &lt;dbl&gt; | period &lt;dbl&gt; | quality &lt;chr&gt; | lat &lt;dbl&gt; | long &lt;dbl&gt; | station_name &lt;chr&gt; |\n",
       "|---|---|---|---|---|---|---|---|---|---|---|---|\n",
       "| 009151 | Perth | 1967 | 1960 | 01 | 01 | NA | NA | NA | -31.96 | 115.79 | Subiaco Wastewater Treatment Plant |\n",
       "| 009151 | Perth | 1967 | 1960 | 01 | 02 | NA | NA | NA | -31.96 | 115.79 | Subiaco Wastewater Treatment Plant |\n",
       "| 009151 | Perth | 1967 | 1960 | 01 | 03 | NA | NA | NA | -31.96 | 115.79 | Subiaco Wastewater Treatment Plant |\n",
       "| 009151 | Perth | 1967 | 1960 | 01 | 04 | NA | NA | NA | -31.96 | 115.79 | Subiaco Wastewater Treatment Plant |\n",
       "| 009151 | Perth | 1967 | 1960 | 01 | 05 | NA | NA | NA | -31.96 | 115.79 | Subiaco Wastewater Treatment Plant |\n",
       "| 009151 | Perth | 1967 | 1960 | 01 | 06 | NA | NA | NA | -31.96 | 115.79 | Subiaco Wastewater Treatment Plant |\n",
       "\n"
      ],
      "text/plain": [
       "  station_code city_name year decade month day rainfall period quality lat   \n",
       "1 009151       Perth     1967 1960   01    01  NA       NA     NA      -31.96\n",
       "2 009151       Perth     1967 1960   01    02  NA       NA     NA      -31.96\n",
       "3 009151       Perth     1967 1960   01    03  NA       NA     NA      -31.96\n",
       "4 009151       Perth     1967 1960   01    04  NA       NA     NA      -31.96\n",
       "5 009151       Perth     1967 1960   01    05  NA       NA     NA      -31.96\n",
       "6 009151       Perth     1967 1960   01    06  NA       NA     NA      -31.96\n",
       "  long   station_name                      \n",
       "1 115.79 Subiaco Wastewater Treatment Plant\n",
       "2 115.79 Subiaco Wastewater Treatment Plant\n",
       "3 115.79 Subiaco Wastewater Treatment Plant\n",
       "4 115.79 Subiaco Wastewater Treatment Plant\n",
       "5 115.79 Subiaco Wastewater Treatment Plant\n",
       "6 115.79 Subiaco Wastewater Treatment Plant"
      ]
     },
     "metadata": {},
     "output_type": "display_data"
    }
   ],
   "source": [
    "# drop it right into place\n",
    "rainfall %>% \n",
    "  select(station_code:year, decade, everything()) %>%\n",
    "  head()"
   ]
  },
  {
   "cell_type": "markdown",
   "id": "prescribed-quick",
   "metadata": {},
   "source": [
    "The reason I love `everything()` is you don't have to think about it. Get the thing in place then shove the rest on and it'll deal with it nicely. Also learned after writing this that [`last_col()`](https://www.rdocumentation.org/packages/tidyselect/versions/1.0.0/topics/select_helpers) is also available to help out. \n",
    "\n",
    "#### Image Credit\n",
    "[Heart](https://thenounproject.com/search/?creator=4129988&q=love&i=1894377) by Zach Bogart from [the Noun Project](https://thenounproject.com/)"
   ]
  }
 ],
 "metadata": {
  "jupytext": {
   "cell_metadata_filter": "tags,message,name,-all",
   "main_language": "R",
   "notebook_metadata_filter": "-all"
  },
  "kernelspec": {
   "display_name": "R",
   "language": "R",
   "name": "ir"
  },
  "language_info": {
   "codemirror_mode": "r",
   "file_extension": ".r",
   "mimetype": "text/x-r-source",
   "name": "R",
   "pygments_lexer": "r",
   "version": "4.0.3"
  }
 },
 "nbformat": 4,
 "nbformat_minor": 5
}
